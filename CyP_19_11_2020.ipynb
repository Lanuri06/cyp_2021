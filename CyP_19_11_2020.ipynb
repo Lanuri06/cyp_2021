{
  "nbformat": 4,
  "nbformat_minor": 0,
  "metadata": {
    "colab": {
      "name": "CyP_19/11/2020.ipynb",
      "provenance": [],
      "authorship_tag": "ABX9TyN3gyVmpVvzyCCSSy1TVv0L",
      "include_colab_link": true
    },
    "kernelspec": {
      "name": "python3",
      "display_name": "Python 3"
    }
  },
  "cells": [
    {
      "cell_type": "markdown",
      "metadata": {
        "id": "view-in-github",
        "colab_type": "text"
      },
      "source": [
        "<a href=\"https://colab.research.google.com/github/Lanuri06/cyp_2021/blob/main/CyP_19_11_2020.ipynb\" target=\"_parent\"><img src=\"https://colab.research.google.com/assets/colab-badge.svg\" alt=\"Open In Colab\"/></a>"
      ]
    },
    {
      "cell_type": "code",
      "metadata": {
        "colab": {
          "base_uri": "https://localhost:8080/"
        },
        "id": "YSsBXMigg_Cr",
        "outputId": "3603054e-46d3-417a-adf6-64bbeac87b7e"
      },
      "source": [
        "I = 0\n",
        "I = I + 1\n",
        "I = I + 1\n",
        "print(f\"I = { I } \")\n",
        "J = 5 ** 2 / 3\n",
        "print(f\"J = { J }\")"
      ],
      "execution_count": 4,
      "outputs": [
        {
          "output_type": "stream",
          "text": [
            "I = 2 \n",
            "J = 8.333333333333334\n"
          ],
          "name": "stdout"
        }
      ]
    },
    {
      "cell_type": "code",
      "metadata": {
        "colab": {
          "base_uri": "https://localhost:8080/"
        },
        "id": "9AxzCFTnmy3I",
        "outputId": "aebda963-af1e-4e0f-98e6-fbe059c34770"
      },
      "source": [
        "# Declaración de variables (reservando memoria)\n",
        "A = 0\n",
        "B = 0\n",
        "C = 0\n",
        "D = 0\n",
        "\n",
        "A = (input(\"Dame un valor entero:\"))\n",
        "B = (input(\"Dame un valor entero:\"))\n",
        "C = (input(\"Dame un valor entero:\"))\n",
        "D = (input(\"Dame un valor entero:\"))\n",
        "\n",
        "print(D)\n",
        "print(C)\n",
        "print(B)\n",
        "print(A)"
      ],
      "execution_count": 6,
      "outputs": [
        {
          "output_type": "stream",
          "text": [
            "Dame un valor entero:10\n",
            "Dame un valor entero:20\n",
            "Dame un valor entero:30\n",
            "Dame un valor entero:40\n",
            "40\n",
            "30\n",
            "20\n",
            "10\n"
          ],
          "name": "stdout"
        }
      ]
    },
    {
      "cell_type": "code",
      "metadata": {
        "colab": {
          "base_uri": "https://localhost:8080/"
        },
        "id": "mnvvs3vOpO6v",
        "outputId": "c07af343-ccf1-47a7-849d-b52be2dcf1b7"
      },
      "source": [
        "#Ejemplo 1.7\n",
        "A = 0\n",
        "B = 0\n",
        "Res = 0\n",
        "\n",
        "A = int( input(\" Dame un entero: \"))\n",
        "B = int( input(\" Dame otro entero: \"))\n",
        "RES = ( A + B )** 2/ 3\n",
        "print(RES)"
      ],
      "execution_count": 10,
      "outputs": [
        {
          "output_type": "stream",
          "text": [
            " Dame un entero: 14\n",
            " Dame otro entero: -5\n",
            "27.0\n"
          ],
          "name": "stdout"
        }
      ]
    },
    {
      "cell_type": "code",
      "metadata": {
        "colab": {
          "base_uri": "https://localhost:8080/"
        },
        "id": "Eg9JTDASuOza",
        "outputId": "b2a751b5-5b69-4634-a241-4eb84c430464"
      },
      "source": [
        "#Ejemplo 1.8\n",
        "MAT= 0\n",
        "CAL1= 0\n",
        "CAL2= 0\n",
        "CAL3= 0\n",
        "CAL4= 0\n",
        "CAL5= 0\n",
        "\n",
        "MAT=  int(input(\"Matricula:\"))\n",
        "CAL1= float(input(\"dame la calificación 1: \"))\n",
        "CAL2= float(input(\"dame la calificación 2: \"))\n",
        "CAL3= float(input(\"dame la calificación 3: \"))\n",
        "CAL4= float(input(\"dame la calificación 4: \"))\n",
        "CAL5= float(input(\"dame la calificación 5: \"))\n",
        "\n",
        "PROM = (CAL1+CAL2+CAL3+CAL4+CAL5)/5\n",
        "print(MAT, PROM)"
      ],
      "execution_count": 31,
      "outputs": [
        {
          "output_type": "stream",
          "text": [
            "Matricula:55555\n",
            "dame la calificación 1: 5\n",
            "dame la calificación 2: 5\n",
            "dame la calificación 3: 5\n",
            "dame la calificación 4: 5\n",
            "dame la calificación 5: 5\n",
            "55555 5.0\n"
          ],
          "name": "stdout"
        }
      ]
    },
    {
      "cell_type": "code",
      "metadata": {
        "colab": {
          "base_uri": "https://localhost:8080/"
        },
        "id": "GXNvAA6ixsg8",
        "outputId": "f347b385-8d59-4e20-c75a-d27165567f7b"
      },
      "source": [
        "#Ejemplo 1.9\n",
        "num = int(input(\"Number: \"))\n",
        "print(num ** 2)\n",
        "print(num ** 3)"
      ],
      "execution_count": 19,
      "outputs": [
        {
          "output_type": "stream",
          "text": [
            "Number: 7\n",
            "49\n",
            "343\n"
          ],
          "name": "stdout"
        }
      ]
    },
    {
      "cell_type": "code",
      "metadata": {
        "colab": {
          "base_uri": "https://localhost:8080/"
        },
        "id": "Q6ESsLT00PbW",
        "outputId": "8ddcfdb4-2d16-46fe-9d7f-e5485b2e2c22"
      },
      "source": [
        "#Ejemplo 1.10\n",
        "Base = 0\n",
        "Altura = 0\n",
        "Area = 0\n",
        "Per = 0\n",
        "\n",
        "Base= float(input( \"Ingresa la base\" ))\n",
        "Altura=float(input(\" Ingresa la altura \"))\n",
        "Area=(Base*Altura)\n",
        "Per=(2*Base)+(2*Altura)\n",
        "\n",
        "print(f\"el área es {Area}\")\n",
        "print(f\"el perímetro es {Per}\")"
      ],
      "execution_count": 29,
      "outputs": [
        {
          "output_type": "stream",
          "text": [
            "Ingresa la base20\n",
            " Ingresa la altura 20\n",
            "el área es 400.0\n",
            "el perímetro es 80.0\n"
          ],
          "name": "stdout"
        }
      ]
    }
  ]
}