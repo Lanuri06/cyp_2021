{
  "nbformat": 4,
  "nbformat_minor": 0,
  "metadata": {
    "colab": {
      "name": "CyP_12/1/2021.ipynb",
      "provenance": [],
      "authorship_tag": "ABX9TyOHZR/R4tR4z2eZvPMTo9tP",
      "include_colab_link": true
    },
    "kernelspec": {
      "name": "python3",
      "display_name": "Python 3"
    }
  },
  "cells": [
    {
      "cell_type": "markdown",
      "metadata": {
        "id": "view-in-github",
        "colab_type": "text"
      },
      "source": [
        "<a href=\"https://colab.research.google.com/github/Lanuri06/cyp_2021/blob/main/CyP_12_1_2021.ipynb\" target=\"_parent\"><img src=\"https://colab.research.google.com/assets/colab-badge.svg\" alt=\"Open In Colab\"/></a>"
      ]
    },
    {
      "cell_type": "markdown",
      "metadata": {
        "id": "MOF9ky-5pTtq"
      },
      "source": [
        "# Introducción a Python\r\n",
        "- Creado en los 90's por Guido Ban R. \r\n",
        "- En el 2000 Python mejora y tienen nuevas características.\r\n",
        "- 2020 Deja de ser la versión oficial Python 2.7 y solo se dará soporte a Python 3 en adelante.\r\n",
        "\r\n",
        "## Características de Python\r\n",
        "1. Lenguaje de propósito general\r\n",
        "2. Interpretado y no-compilado\r\n",
        "3. Tipos de datos dinámicos. (Numéricos, de cadena, bool, entre otros).\r\n",
        "4. Multiplataforma\r\n",
        "5. Lenguaje multi-paradigma. (Imperativa, POO y funcional).\r\n",
        "6. Código es estructurado por identación\r\n",
        "\r\n",
        "```\r\n",
        "if a > 10 :\r\n",
        "    print( \"Hola\" )\r\n",
        "print(\"hola dos\")\r\n",
        "````\r\n",
        "\r\n",
        "## Principios de Python\r\n",
        "\r\n",
        "Son las características que guían el diseño del lenguaje de programación de Python\r\n",
        "\r\n",
        "\r\n",
        "\r\n"
      ]
    },
    {
      "cell_type": "code",
      "metadata": {
        "colab": {
          "base_uri": "https://localhost:8080/"
        },
        "id": "W1UERHJIvEm6",
        "outputId": "d4ef1087-5cf4-405a-8b67-042bbace03e9"
      },
      "source": [
        "# Primer programa en Python 3 \r\n",
        "\r\n",
        "nombre = \"José\"\r\n",
        "edad = 18\r\n",
        "print(\"Hola\" , nombre , edad )"
      ],
      "execution_count": 1,
      "outputs": [
        {
          "output_type": "stream",
          "text": [
            "Hola José 18\n"
          ],
          "name": "stdout"
        }
      ]
    },
    {
      "cell_type": "markdown",
      "metadata": {
        "id": "G2LerLbUvnpl"
      },
      "source": [
        "# La función print()\r\n",
        "\r\n",
        "Es una de las funciones más empleadas en programación y busca enviar datos a la salida estandar(monitor)\r\n",
        "\r\n",
        "### Formas de uso\r\n",
        "1. Con comas \r\n",
        "1. Con signos +\r\n",
        "1. .format()\r\n",
        "1. el operador f\"\r\n",
        "\r\n",
        "#### con comas \r\n",
        "Concatena los argumentos enviados a print les agrega un espacio.\r\n",
        "\r\n",
        "#### con signos +\r\n",
        "Concatena los valores sin espacio y sin hacer conversión de tipos.\r\n",
        "\r\n",
        "#### con la función format()\r\n",
        "Permite darle dormato a la salida de impresioón variables. Emplea la función format del tipo de dato String.\r\n",
        "\r\n",
        "```\r\n",
        "\" cadena {} a {} forma{}tear \".format(v1,v2,vn)\r\n",
        "```\r\n",
        "Emplea como comodines para sustior valores de signos {}.\r\n",
        "\r\n",
        "### Con operador f\"\"\r\n",
        "\r\n",
        "Es una varianre de la forma anterior pero enmascarando la función format().\r\n",
        "print/f\" adadasd {var} asdasd{var2}asdasd{varn}\r\n"
      ]
    },
    {
      "cell_type": "code",
      "metadata": {
        "colab": {
          "base_uri": "https://localhost:8080/"
        },
        "id": "s7SNNF-jwS1Z",
        "outputId": "66afd8ea-2c3b-4258-b7d6-224e58a2ac85"
      },
      "source": [
        "print(\"Hola\" , nombre , edad )\r\n",
        "print(\"Hola\" + nombre +str(edad) )\r\n",
        "# Nombre: José, con una edad de :18 años.\r\n",
        "print(\"Nombre:\", nombre, \"Con una edad de:\", edad , \"años\")\r\n",
        "print(\"Nombre: \" + nombre  +  \" Con una edad de:\" + str(edad) + \" años\")\r\n",
        "# con format ()\r\n",
        "print(\"Nombre: {1} con una edad de: {1} años.\".format(nombre,edad))\r\n",
        "#con el operador f\"\"\r\n",
        "print(f\"Nombre: {nombre} con una edad de: {edad} años\")\r\n"
      ],
      "execution_count": 13,
      "outputs": [
        {
          "output_type": "stream",
          "text": [
            "Hola José 18\n",
            "HolaJosé18\n",
            "Nombre: José Con una edad de: 18 años\n",
            "Nombre: José Con una edad de:18 años\n",
            "Nombre: 18 con una edad de: 18 años.\n",
            "Nombre: José con una edad de: 18 años\n"
          ],
          "name": "stdout"
        }
      ]
    },
    {
      "cell_type": "markdown",
      "metadata": {
        "id": "JNyVdqoT2WVm"
      },
      "source": [
        "# Función print() y los carácteres de escape.\r\n",
        "- \\n salto de línea\r\n",
        "- \\t tabulador\r\n",
        "- \\\\ imprimir la diagonal \\\r\n",
        "- \\' y \\\"\r\n",
        "- \\uxxxx\r\n",
        "- \\uxxxxxxx"
      ]
    },
    {
      "cell_type": "code",
      "metadata": {
        "colab": {
          "base_uri": "https://localhost:8080/"
        },
        "id": "18Iv3qwv2cR4",
        "outputId": "2967375b-5f15-4440-f912-3b8f16a64fc2"
      },
      "source": [
        "print('\"')\r\n",
        "print(\"\\\"\")\r\n",
        "print(\"Nombre: José\\n\\tcon una edad \\\\de: 18 años.\")\r\n",
        "#caracteres unicode\r\n",
        "\r\n",
        "print(\"Hola \\u2661\" )"
      ],
      "execution_count": 17,
      "outputs": [
        {
          "output_type": "stream",
          "text": [
            "\"\n",
            "\"\n",
            "Nombre: José\n",
            "\tcon una edad \\de: 18 años.\n",
            "Hola ♡\n"
          ],
          "name": "stdout"
        }
      ]
    },
    {
      "cell_type": "markdown",
      "metadata": {
        "id": "Sus2bvzz8DOc"
      },
      "source": [
        "## print y salto de línea en el argumento.\r\n",
        "\r\n",
        "print([lista de variables], end=\"\\n\")\r\n"
      ]
    },
    {
      "cell_type": "code",
      "metadata": {
        "colab": {
          "base_uri": "https://localhost:8080/"
        },
        "id": "JbTMeYND80MF",
        "outputId": "0ac3c4c2-8827-40d6-dca7-39eda18c330c"
      },
      "source": [
        "print(\"Hola \" ,  end=\"\\u13CD\")\r\n",
        "print(\"Mundo  \" , end=\"++++\")\r\n",
        "print(\"Fin\" , end=\"\\n\")"
      ],
      "execution_count": 18,
      "outputs": [
        {
          "output_type": "stream",
          "text": [
            "Hola ᏍMundo  ++++Fin\n"
          ],
          "name": "stdout"
        }
      ]
    },
    {
      "cell_type": "markdown",
      "metadata": {
        "id": "Rolb-fG_9lRP"
      },
      "source": [
        "# Comentarios en Python.\r\n",
        "Un comentario en programación, es un texto especial que es ignorado por el interprete o compilador (Según dea el caso) y es empleado para que el programador documente sus algoritmos.\r\n",
        "\r\n",
        "Existen de dos tipos: De línea simple y múltiple línea.\r\n",
        "\r\n",
        "En Python.\r\n",
        "- Línea simple emplea #\r\n",
        "\r\n",
        "- Línea múltiple\r\n",
        "\r\n",
        "```\r\n",
        "Esto\r\n",
        "esun comentario de \r\n",
        "linea\r\n",
        "multiple\r\n",
        "```"
      ]
    },
    {
      "cell_type": "code",
      "metadata": {
        "colab": {
          "base_uri": "https://localhost:8080/"
        },
        "id": "QvBCrMkN-f2j",
        "outputId": "8b9a35f1-b596-4fa1-8cb5-0f19935aecb6"
      },
      "source": [
        "print(\"Hola\")\r\n",
        "# print (\"Hola\")\r\n",
        "# cualquier cosa \r\n",
        "print(\"Hola\")\r\n",
        "print(\"Hola\") # esta liínea imprime hola\r\n",
        "print(\"Hola\")\r\n",
        "print(\"Hola\")\r\n",
        "\"\"\"\r\n",
        "esto es\r\n",
        "un comentario de múltiple lunea. Ideal\r\n",
        "para cuando se desea explicar algo a fondo que requiera mayor detales.\r\n",
        "\r\n",
        "\"\"\"\r\n",
        "\r\n",
        "print(\"Hola\")\r\n",
        "print(\"Hola\")\r\n",
        "print(\"Hola\")\r\n",
        "print(\"Hola\")"
      ],
      "execution_count": 19,
      "outputs": [
        {
          "output_type": "stream",
          "text": [
            "Hola\n",
            "Hola\n",
            "Hola\n",
            "Hola\n",
            "Hola\n",
            "Hola\n",
            "Hola\n",
            "Hola\n",
            "Hola\n"
          ],
          "name": "stdout"
        }
      ]
    }
  ]
}