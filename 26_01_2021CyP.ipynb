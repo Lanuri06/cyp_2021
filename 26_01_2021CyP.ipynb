{
  "nbformat": 4,
  "nbformat_minor": 0,
  "metadata": {
    "colab": {
      "name": "26_01_2021CyP.ipynb",
      "provenance": [],
      "authorship_tag": "ABX9TyOQf3oYx6G5oj+sFRf0iAh7",
      "include_colab_link": true
    },
    "kernelspec": {
      "name": "python3",
      "display_name": "Python 3"
    }
  },
  "cells": [
    {
      "cell_type": "markdown",
      "metadata": {
        "id": "view-in-github",
        "colab_type": "text"
      },
      "source": [
        "<a href=\"https://colab.research.google.com/github/Lanuri06/cyp_2021/blob/main/26_01_2021CyP.ipynb\" target=\"_parent\"><img src=\"https://colab.research.google.com/assets/colab-badge.svg\" alt=\"Open In Colab\"/></a>"
      ]
    },
    {
      "cell_type": "markdown",
      "metadata": {
        "id": "TuYLJX1MJRgm"
      },
      "source": [
        "# Listas de Phyton 3\r\n",
        "1. Es una estructura de datos lineal de 0 o n elementos.\r\n",
        "2. \"Equivalente\" a los arreglo.\r\n",
        "3. Pueden ser de idferente tipo de dato. [1,2,32,12] , [1, True, 2.34, \"Hola\"]\r\n",
        "4. Puden ser añadidos, listas de listas. [\"Melon\", manzana roja\", \"manzana amarilla\"]\r\n",
        "5. Su selector es de la forma: [ int ],\r\n",
        "6. Son mutables.\r\n"
      ]
    },
    {
      "cell_type": "code",
      "metadata": {
        "colab": {
          "base_uri": "https://localhost:8080/"
        },
        "id": "h3vBUQHbJNgd",
        "outputId": "f8af7b6c-4d5e-437e-dee8-c1523d7dd9c8"
      },
      "source": [
        "#Ejemplos\r\n",
        "numeros = [4,2,45,7,83,3]\r\n",
        "print(numeros)\r\n",
        "print(numeros[2])\r\n",
        "\r\n",
        "# una lista de 0 elementos\r\n",
        "colores=[] # lsit()\r\n",
        "type(colores) # averiguar de que tipo de dato es una variable con la funcion phyton \r\n",
        "dias = list()\r\n",
        "print(colores)\r\n",
        "print(dias)"
      ],
      "execution_count": 1,
      "outputs": [
        {
          "output_type": "stream",
          "text": [
            "[4, 2, 45, 7, 83, 3]\n",
            "45\n",
            "[]\n",
            "[]\n"
          ],
          "name": "stdout"
        }
      ]
    },
    {
      "cell_type": "code",
      "metadata": {
        "colab": {
          "base_uri": "https://localhost:8080/"
        },
        "id": "MOX4ck81Jua4",
        "outputId": "4e01fb0c-2a49-45bd-992e-a0c521f7f31e"
      },
      "source": [
        "#Puden ser de diferentee tipos de datos\r\n",
        "\r\n",
        "mi_lista = [1,2,3, \"Jose\", False, 1.76, [5587596263, 55384593, 5510050140]]\r\n",
        "print(mi_lista)\r\n",
        "print(mi_lista[5])\r\n",
        "print(mi_lista[6][1])\r\n",
        "print(mi_lista[3][3])\r\n",
        "print(mi_lista[3][3::])\r\n",
        "print(mi_lista[3][-1::1])\r\n",
        "mi_lista = [1,2,3, \"Jose\", False, 1.76, [\"5587596263,\" \"55384593\", \"5510050140\"]]\r\n",
        "print( str(mi_lista[6][1][2]))\r\n"
      ],
      "execution_count": 2,
      "outputs": [
        {
          "output_type": "stream",
          "text": [
            "[1, 2, 3, 'Jose', False, 1.76, [5587596263, 55384593, 5510050140]]\n",
            "1.76\n",
            "55384593\n",
            "e\n",
            "e\n",
            "e\n",
            "1\n"
          ],
          "name": "stdout"
        }
      ]
    },
    {
      "cell_type": "code",
      "metadata": {
        "colab": {
          "base_uri": "https://localhost:8080/"
        },
        "id": "nKutI3B4J4cj",
        "outputId": "45d992de-a6f7-458c-a49a-84e6c73f97b2"
      },
      "source": [
        "fruta = [\"melon\", \"sandia\", \"liwi\", \"aguacate\", \"mango\", \"platano\"]\r\n",
        "print(fruta)\r\n",
        "fruta[0] = \"Melòn\"\r\n",
        "print(fruta)\r\n",
        "#frutas[1] = \"S\"\r\n",
        "#print(fruta)\r\n",
        "#frutas[1][0] = \"S\"\r\n",
        "fruta[1] = fruta[1].capitalize()\r\n",
        "print(fruta)"
      ],
      "execution_count": 3,
      "outputs": [
        {
          "output_type": "stream",
          "text": [
            "['melon', 'sandia', 'liwi', 'aguacate', 'mango', 'platano']\n",
            "['Melòn', 'sandia', 'liwi', 'aguacate', 'mango', 'platano']\n",
            "['Melòn', 'Sandia', 'liwi', 'aguacate', 'mango', 'platano']\n"
          ],
          "name": "stdout"
        }
      ]
    },
    {
      "cell_type": "code",
      "metadata": {
        "colab": {
          "base_uri": "https://localhost:8080/"
        },
        "id": "LCuOyVi3J7TH",
        "outputId": "bbae8316-e018-4cea-a2cc-9ee0806c12a2"
      },
      "source": [
        "# Las listas son clases por lo tanto, tienen métodos.\r\n",
        "# Ejemplos: Append, agrega un elemneto al final\r\n",
        "fruta = [\"melon\", \"sandia\", \"liwi\", \"aguacate\", \"mango\", \"platano\"]\r\n",
        "fruta.append(\"Fresa\")\r\n",
        "print(fruta)\r\n",
        "\r\n",
        "print(\"Ejemplo de copias\")\r\n",
        "otras_frutas = fruta.copy()\r\n",
        "print(fruta)\r\n",
        "print(otras_frutas)\r\n",
        "otras_frutas[0]=\"Chico zapote\"\r\n",
        "print(otras_frutas)\r\n",
        "print(fruta)\r\n",
        "print(\"----------\")\r\n",
        "\r\n",
        "print(\"ejemplo de extend\")\r\n",
        "\r\n",
        "colores = [\"rojo\", \"verde\", \"azul\"]\r\n",
        "fruta.extend(colores)\r\n",
        "print(fruta)\r\n",
        "\r\n",
        "print(\"ejempplo insert\")\r\n",
        "print(f\"tamaño de la lista = {len(fruta)}\")\r\n",
        "fruta.insert(3, \"Limon\")\r\n",
        "print(f\"tamaño de la lista = {len(fruta)}\")\r\n",
        "print(fruta)\r\n",
        "\r\n",
        "print(\"ejemplo remove, eliminar kiwi\")\r\n",
        "fruta.remove(\"liwi\")\r\n",
        "print(fruta)\r\n",
        "\r\n",
        "print(\"ejemplo con el operador del\")\r\n",
        "del fruta[2] #operdador de lista\r\n",
        "print(fruta)\r\n",
        "\r\n",
        "fruta.clear()\r\n",
        "print(fruta)"
      ],
      "execution_count": 4,
      "outputs": [
        {
          "output_type": "stream",
          "text": [
            "['melon', 'sandia', 'liwi', 'aguacate', 'mango', 'platano', 'Fresa']\n",
            "Ejemplo de copias\n",
            "['melon', 'sandia', 'liwi', 'aguacate', 'mango', 'platano', 'Fresa']\n",
            "['melon', 'sandia', 'liwi', 'aguacate', 'mango', 'platano', 'Fresa']\n",
            "['Chico zapote', 'sandia', 'liwi', 'aguacate', 'mango', 'platano', 'Fresa']\n",
            "['melon', 'sandia', 'liwi', 'aguacate', 'mango', 'platano', 'Fresa']\n",
            "----------\n",
            "ejemplo de extend\n",
            "['melon', 'sandia', 'liwi', 'aguacate', 'mango', 'platano', 'Fresa', 'rojo', 'verde', 'azul']\n",
            "ejempplo insert\n",
            "tamaño de la lista = 10\n",
            "tamaño de la lista = 11\n",
            "['melon', 'sandia', 'liwi', 'Limon', 'aguacate', 'mango', 'platano', 'Fresa', 'rojo', 'verde', 'azul']\n",
            "ejemplo remove, eliminar kiwi\n",
            "['melon', 'sandia', 'Limon', 'aguacate', 'mango', 'platano', 'Fresa', 'rojo', 'verde', 'azul']\n",
            "ejemplo con el operador del\n",
            "['melon', 'sandia', 'aguacate', 'mango', 'platano', 'Fresa', 'rojo', 'verde', 'azul']\n",
            "[]\n"
          ],
          "name": "stdout"
        }
      ]
    },
    {
      "cell_type": "code",
      "metadata": {
        "colab": {
          "base_uri": "https://localhost:8080/"
        },
        "id": "BCClMNfeJ_94",
        "outputId": "a0f1e993-ba53-4244-8a5d-eb453a0a4336"
      },
      "source": [
        "cosas = [\"jose\",True,2,3,4,5,\"pedro\",1.23]\r\n",
        "indice = 0\r\n",
        "a_eliminar=[]\r\n",
        "for elemento in cosas:\r\n",
        "    if isinstance( elemento , int ) :\r\n",
        "        print(\"entero\",elemento) # cosas.remove(elemento)\r\n",
        "        a_eliminar.append(elemento)\r\n",
        "    indice += 1\r\n",
        "\r\n",
        "print(a_eliminar)\r\n",
        "for indice in a_eliminar:\r\n",
        "    print( indice)\r\n",
        "    cosas.remove(indice)\r\n",
        "print(cosas)"
      ],
      "execution_count": 5,
      "outputs": [
        {
          "output_type": "stream",
          "text": [
            "entero True\n",
            "entero 2\n",
            "entero 3\n",
            "entero 4\n",
            "entero 5\n",
            "[True, 2, 3, 4, 5]\n",
            "True\n",
            "2\n",
            "3\n",
            "4\n",
            "5\n",
            "['jose', 'pedro', 1.23]\n"
          ],
          "name": "stdout"
        }
      ]
    },
    {
      "cell_type": "code",
      "metadata": {
        "colab": {
          "base_uri": "https://localhost:8080/"
        },
        "id": "iGGOEIUuKFoW",
        "outputId": "b425f499-e631-4f00-c65e-ea37027258dd"
      },
      "source": [
        "help(fruta)"
      ],
      "execution_count": 6,
      "outputs": [
        {
          "output_type": "stream",
          "text": [
            "Help on list object:\n",
            "\n",
            "class list(object)\n",
            " |  list() -> new empty list\n",
            " |  list(iterable) -> new list initialized from iterable's items\n",
            " |  \n",
            " |  Methods defined here:\n",
            " |  \n",
            " |  __add__(self, value, /)\n",
            " |      Return self+value.\n",
            " |  \n",
            " |  __contains__(self, key, /)\n",
            " |      Return key in self.\n",
            " |  \n",
            " |  __delitem__(self, key, /)\n",
            " |      Delete self[key].\n",
            " |  \n",
            " |  __eq__(self, value, /)\n",
            " |      Return self==value.\n",
            " |  \n",
            " |  __ge__(self, value, /)\n",
            " |      Return self>=value.\n",
            " |  \n",
            " |  __getattribute__(self, name, /)\n",
            " |      Return getattr(self, name).\n",
            " |  \n",
            " |  __getitem__(...)\n",
            " |      x.__getitem__(y) <==> x[y]\n",
            " |  \n",
            " |  __gt__(self, value, /)\n",
            " |      Return self>value.\n",
            " |  \n",
            " |  __iadd__(self, value, /)\n",
            " |      Implement self+=value.\n",
            " |  \n",
            " |  __imul__(self, value, /)\n",
            " |      Implement self*=value.\n",
            " |  \n",
            " |  __init__(self, /, *args, **kwargs)\n",
            " |      Initialize self.  See help(type(self)) for accurate signature.\n",
            " |  \n",
            " |  __iter__(self, /)\n",
            " |      Implement iter(self).\n",
            " |  \n",
            " |  __le__(self, value, /)\n",
            " |      Return self<=value.\n",
            " |  \n",
            " |  __len__(self, /)\n",
            " |      Return len(self).\n",
            " |  \n",
            " |  __lt__(self, value, /)\n",
            " |      Return self<value.\n",
            " |  \n",
            " |  __mul__(self, value, /)\n",
            " |      Return self*value.\n",
            " |  \n",
            " |  __ne__(self, value, /)\n",
            " |      Return self!=value.\n",
            " |  \n",
            " |  __new__(*args, **kwargs) from builtins.type\n",
            " |      Create and return a new object.  See help(type) for accurate signature.\n",
            " |  \n",
            " |  __repr__(self, /)\n",
            " |      Return repr(self).\n",
            " |  \n",
            " |  __reversed__(...)\n",
            " |      L.__reversed__() -- return a reverse iterator over the list\n",
            " |  \n",
            " |  __rmul__(self, value, /)\n",
            " |      Return value*self.\n",
            " |  \n",
            " |  __setitem__(self, key, value, /)\n",
            " |      Set self[key] to value.\n",
            " |  \n",
            " |  __sizeof__(...)\n",
            " |      L.__sizeof__() -- size of L in memory, in bytes\n",
            " |  \n",
            " |  append(...)\n",
            " |      L.append(object) -> None -- append object to end\n",
            " |  \n",
            " |  clear(...)\n",
            " |      L.clear() -> None -- remove all items from L\n",
            " |  \n",
            " |  copy(...)\n",
            " |      L.copy() -> list -- a shallow copy of L\n",
            " |  \n",
            " |  count(...)\n",
            " |      L.count(value) -> integer -- return number of occurrences of value\n",
            " |  \n",
            " |  extend(...)\n",
            " |      L.extend(iterable) -> None -- extend list by appending elements from the iterable\n",
            " |  \n",
            " |  index(...)\n",
            " |      L.index(value, [start, [stop]]) -> integer -- return first index of value.\n",
            " |      Raises ValueError if the value is not present.\n",
            " |  \n",
            " |  insert(...)\n",
            " |      L.insert(index, object) -- insert object before index\n",
            " |  \n",
            " |  pop(...)\n",
            " |      L.pop([index]) -> item -- remove and return item at index (default last).\n",
            " |      Raises IndexError if list is empty or index is out of range.\n",
            " |  \n",
            " |  remove(...)\n",
            " |      L.remove(value) -> None -- remove first occurrence of value.\n",
            " |      Raises ValueError if the value is not present.\n",
            " |  \n",
            " |  reverse(...)\n",
            " |      L.reverse() -- reverse *IN PLACE*\n",
            " |  \n",
            " |  sort(...)\n",
            " |      L.sort(key=None, reverse=False) -> None -- stable sort *IN PLACE*\n",
            " |  \n",
            " |  ----------------------------------------------------------------------\n",
            " |  Data and other attributes defined here:\n",
            " |  \n",
            " |  __hash__ = None\n",
            "\n"
          ],
          "name": "stdout"
        }
      ]
    },
    {
      "cell_type": "code",
      "metadata": {
        "colab": {
          "base_uri": "https://localhost:8080/"
        },
        "id": "iCKiD1OOKJ0q",
        "outputId": "1ea4d9cf-349d-4765-d65c-b37abde09542"
      },
      "source": [
        "# slicing sobre listas\r\n",
        "fruta = [\"melon\", \"sandia\", \"liwi\", \"aguacate\", \"mango\", \"platano\"]\r\n",
        "\r\n",
        "print(fruta[1:4])\r\n",
        "\r\n",
        "sistemas_operativos = [\"Windows\", \"mac OS\", \"Linux\", \"Android\"]\r\n",
        "autos = [\"Ford\", \"mazda\", \"Honda\"]\r\n",
        "\r\n",
        "cosas = [ sistemas_operativos, autos]\r\n",
        "print(cosas)\r\n",
        "print(cosas[1])\r\n",
        "print(cosas[0][2])\r\n",
        "print(cosas[0][3][2:5:1])\r\n",
        "print(cosas[1][1][-2:-5:-1])"
      ],
      "execution_count": 7,
      "outputs": [
        {
          "output_type": "stream",
          "text": [
            "['sandia', 'liwi', 'aguacate']\n",
            "[['Windows', 'mac OS', 'Linux', 'Android'], ['Ford', 'mazda', 'Honda']]\n",
            "['Ford', 'mazda', 'Honda']\n",
            "Linux\n",
            "dro\n",
            "dza\n"
          ],
          "name": "stdout"
        }
      ]
    }
  ]
}