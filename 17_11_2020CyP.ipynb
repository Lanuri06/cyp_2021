{
  "nbformat": 4,
  "nbformat_minor": 0,
  "metadata": {
    "colab": {
      "name": "17/11/2020CyP.ipynb",
      "provenance": [],
      "authorship_tag": "ABX9TyOiqqcZU/BHbtOsnn44SlJT",
      "include_colab_link": true
    },
    "kernelspec": {
      "name": "python3",
      "display_name": "Python 3"
    }
  },
  "cells": [
    {
      "cell_type": "markdown",
      "metadata": {
        "id": "view-in-github",
        "colab_type": "text"
      },
      "source": [
        "<a href=\"https://colab.research.google.com/github/Lanuri06/cyp_2021/blob/main/17_11_2020CyP.ipynb\" target=\"_parent\"><img src=\"https://colab.research.google.com/assets/colab-badge.svg\" alt=\"Open In Colab\"/></a>"
      ]
    },
    {
      "cell_type": "code",
      "metadata": {
        "colab": {
          "base_uri": "https://localhost:8080/"
        },
        "id": "PDJjMgS9R9MO",
        "outputId": "f1b1ee04-e1ee-4ead-a003-3e0b07314639"
      },
      "source": [
        "edad = 15\n",
        "estatura = 1.67\n",
        "a = 10\n",
        "b = 3\n",
        "\n",
        "c = 2 ** b + 2 + 3 + 4\n",
        "\n",
        "print( c )\n",
        "\n",
        "e = estatura * 2.0\n",
        "print( e ) \n",
        "\n",
        "f= a / b # En python se hace el cálculo exacto\n",
        "print ( f ) # 3.3333\n",
        "\n",
        "# también podemos forzar al cálculo de enteros\n",
        "\n",
        "g = a // b\n",
        "print ( \"g=\",g )\n",
        "\n",
        "h = a % b\n",
        "print(\"h=\", h)\n",
        "\n",
        "num = 10\n",
        "print(\"Es par num ? \",  (num % 2) == 0)"
      ],
      "execution_count": 12,
      "outputs": [
        {
          "output_type": "stream",
          "text": [
            "17\n",
            "3.34\n",
            "3.3333333333333335\n",
            "g= 3\n",
            "h= 1\n",
            "Es par num ?  True\n"
          ],
          "name": "stdout"
        }
      ]
    },
    {
      "cell_type": "code",
      "metadata": {
        "colab": {
          "base_uri": "https://localhost:8080/"
        },
        "id": "SLx97LsEW9-d",
        "outputId": "896115d6-74ec-41b2-d08b-8d23865d91cb"
      },
      "source": [
        "ecuacion = 9 + 7 * 8 -36 / 5 #    9+ 56 - 7.2 -> 65 - 7.2\n",
        "print(ecuacion)\n",
        "\n",
        "ecuacion = 0\n",
        "ecuacion = (9 + 7) * 8 - 36 / 5 # 128 - 7.2\n",
        "print(ecuacion)\n",
        "\n",
        "ecuacion = 9 + 7 * (8 - 36) / 5\n",
        "print(ecuacion)"
      ],
      "execution_count": 17,
      "outputs": [
        {
          "output_type": "stream",
          "text": [
            "57.8\n",
            "120.8\n",
            "-30.200000000000003\n"
          ],
          "name": "stdout"
        }
      ]
    },
    {
      "cell_type": "code",
      "metadata": {
        "colab": {
          "base_uri": "https://localhost:8080/"
        },
        "id": "xS8HpcU6cCur",
        "outputId": "e665be0a-0a49-496a-bb89-4fd94ff6f856"
      },
      "source": [
        "# Operadores Lógicos --> True o False\n",
        "x = 5\n",
        "y = 4\n",
        "valor = (5 == 4) # True\n",
        "print(valor)\n",
        "\n",
        "valor = (x == y) # son iguales ?? --> Falso\n",
        "print(valor)\n",
        "\n",
        "valor = (x != y) #Son diferentes? --> True\n",
        "print(valor)\n",
        "\n",
        "valor = (x < y) #x es menor que y? --> False\n",
        "print(valor)\n",
        "\n",
        "valor = (x >= y) #x es mayor que y?? --> True\n",
        "print(valor)\n",
        "\n",
        "\n",
        "valor = (x <= y) #x es menor o iguak qye y? --> False\n",
        "print(valor)\n",
        "\n",
        "valor = (x >= y) #x es mayor o igual que y? --> True\n",
        "print(valor)"
      ],
      "execution_count": 23,
      "outputs": [
        {
          "output_type": "stream",
          "text": [
            "False\n",
            "False\n",
            "True\n",
            "False\n",
            "True\n",
            "False\n",
            "True\n"
          ],
          "name": "stdout"
        }
      ]
    },
    {
      "cell_type": "code",
      "metadata": {
        "colab": {
          "base_uri": "https://localhost:8080/"
        },
        "id": "KF79z9A8fgY8",
        "outputId": "07fa3152-369b-4fa8-9d1c-3b209f9b27e8"
      },
      "source": [
        "costo_chetos = 7.0\n",
        "tienda_abierta = False\n",
        "capital_en_bolsa = 10.0\n",
        "\n",
        "se_compra = (costo_chetos < capital_en_bolsa) and (tienda_abierta == True)\n",
        "print(se_compra)"
      ],
      "execution_count": 22,
      "outputs": [
        {
          "output_type": "stream",
          "text": [
            "False\n"
          ],
          "name": "stdout"
        }
      ]
    }
  ]
}