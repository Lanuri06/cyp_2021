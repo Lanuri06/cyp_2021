{
  "nbformat": 4,
  "nbformat_minor": 0,
  "metadata": {
    "colab": {
      "name": "CyP_14/1/2021.ipynb",
      "provenance": [],
      "authorship_tag": "ABX9TyO5+SmJF8dCYflFlwj+fQhG",
      "include_colab_link": true
    },
    "kernelspec": {
      "name": "python3",
      "display_name": "Python 3"
    }
  },
  "cells": [
    {
      "cell_type": "markdown",
      "metadata": {
        "id": "view-in-github",
        "colab_type": "text"
      },
      "source": [
        "<a href=\"https://colab.research.google.com/github/Lanuri06/cyp_2021/blob/main/CyP_14_1_2021.ipynb\" target=\"_parent\"><img src=\"https://colab.research.google.com/assets/colab-badge.svg\" alt=\"Open In Colab\"/></a>"
      ]
    },
    {
      "cell_type": "markdown",
      "metadata": {
        "id": "30Y0GFrW5D9D"
      },
      "source": [
        "# Palabras reservadas de Python 3\r\n",
        "\r\n",
        "33\r\n",
        "1. False\r\n",
        "1. None\r\n",
        "1. True\r\n",
        "1. and\r\n",
        "1. as\r\n",
        "1. assert\r\n",
        "1. break\r\n",
        "1. class\r\n",
        "1. continue\r\n",
        "1. def\r\n",
        "1. del\r\n",
        "1. elif\r\n",
        "1. else\r\n",
        "1. except\r\n",
        "1. finally\r\n",
        "1. for\r\n",
        "1. from\r\n",
        "1. global\r\n",
        "1. if\r\n",
        "1. import\r\n",
        "1. in\r\n",
        "1. is\r\n",
        "1. lambda\r\n",
        "1. nonlocal\r\n",
        "1. not\r\n",
        "1. or\r\n",
        "1. pass\r\n",
        "1. raise\r\n",
        "1. return\r\n",
        "1. try\r\n",
        "1. while\r\n",
        "1. with\r\n",
        "1. yield\r\n"
      ]
    },
    {
      "cell_type": "code",
      "metadata": {
        "colab": {
          "base_uri": "https://localhost:8080/"
        },
        "id": "oob5ISky49W5",
        "outputId": "d2943f99-d821-4ca7-8ef8-d1a5e780d69e"
      },
      "source": [
        "import keyword\r\n",
        "pr = keyword.kwlist\r\n",
        "print( len(pr))\r\n",
        "for palabra in pr:\r\n",
        "  print(\"1.\" ,palabra)"
      ],
      "execution_count": 3,
      "outputs": [
        {
          "output_type": "stream",
          "text": [
            "33\n",
            "1. False\n",
            "1. None\n",
            "1. True\n",
            "1. and\n",
            "1. as\n",
            "1. assert\n",
            "1. break\n",
            "1. class\n",
            "1. continue\n",
            "1. def\n",
            "1. del\n",
            "1. elif\n",
            "1. else\n",
            "1. except\n",
            "1. finally\n",
            "1. for\n",
            "1. from\n",
            "1. global\n",
            "1. if\n",
            "1. import\n",
            "1. in\n",
            "1. is\n",
            "1. lambda\n",
            "1. nonlocal\n",
            "1. not\n",
            "1. or\n",
            "1. pass\n",
            "1. raise\n",
            "1. return\n",
            "1. try\n",
            "1. while\n",
            "1. with\n",
            "1. yield\n"
          ],
          "name": "stdout"
        }
      ]
    },
    {
      "cell_type": "markdown",
      "metadata": {
        "id": "7I5W4jx161a4"
      },
      "source": [
        "## Variable\r\n",
        "Es un espacio de memoria de la computadora para almacenar valores que cambian a lo largo de la ejecución del programa. Este espacio de memoria está referenciado por un identificador, el cual tiene ciertas reglas de nombrado.\r\n",
        "- No puede iniciar con número\r\n",
        "- No debe ser igual a alguna de las palabras reservadas.\r\n",
        "- Puede iniciar con _\r\n",
        "- Evitar nombres de variables largos\r\n",
        "- Evitar muy cortos, ejemplo: x,y,i\r\n",
        "- Usar notación snake_case\r\n"
      ]
    },
    {
      "cell_type": "code",
      "metadata": {
        "colab": {
          "base_uri": "https://localhost:8080/"
        },
        "id": "XzZvJxbw7r4y",
        "outputId": "ba5eec14-dce3-44e8-f8c3-b0570f8e04cd"
      },
      "source": [
        "_2edad= 12\r\n",
        "print(_2edad)\r\n",
        "\r\n",
        "\"\"\"\r\n",
        "No se puede usar una palabra reservada como identificador de variable:\r\n",
        "\r\n",
        "for = 12\r\n",
        "print(for)\r\n",
        "\r\n",
        "\"\"\"\r\n",
        "_2edad\r\n",
        "dias_de_la_semana = 7\r\n",
        "print(dias_de_la_semana)\r\n",
        "\r\n",
        "diasdelasemana = 7\r\n",
        "print(diasdelasemana)\r\n",
        "\r\n",
        "# Lower camel case\r\n",
        "diasdelasemana= 7\r\n",
        "\r\n",
        "# Upper camel case\r\n",
        "SemanaSanta= 7"
      ],
      "execution_count": 9,
      "outputs": [
        {
          "output_type": "stream",
          "text": [
            "12\n",
            "7\n",
            "7\n"
          ],
          "name": "stdout"
        }
      ]
    },
    {
      "cell_type": "code",
      "metadata": {
        "id": "b1Z2oede8nJr"
      },
      "source": [
        "\"\"\"\r\n",
        "\r\n",
        "La notacion snake case consta de formar el identificador de variable\r\n",
        "separando las palabras del mismo con un guion bajo.\r\n",
        "\r\n",
        "Se recomienda que los identificadores se escriban en minusculas para las variables\r\n",
        "y en mayusculas para las constantes.\r\n",
        "\r\n",
        "es decir si tenemos una variable para los dias de la semana se escribiria, asi\r\n",
        "\r\n",
        "dias_de_la_semana = 7\r\n",
        "dias_mes = 31\r\n",
        "limite_maximo = 100\r\n",
        "\r\n",
        "\"\"\""
      ],
      "execution_count": null,
      "outputs": []
    },
    {
      "cell_type": "markdown",
      "metadata": {
        "id": "Ge2ICRxq95jG"
      },
      "source": [
        "# Tipos de datos\r\n",
        "- Numéricos\r\n",
        "  - int 4 bytes( 1, 2 .2345 . etc. )\r\n",
        "  - float 4 bytes\r\n",
        "  - long 8 bytes\r\n",
        "  - complex  ()\r\n",
        "- Boolean: True o False\r\n",
        "- String cadenas de caracteres (\"cad\" , 'cad' o \"\"\"cad \"\"\" )\r\n",
        "- listas ( [1,2,3,4] , [a,b,1,2.3])\r\n",
        "- tuplas (    (edad,23) , (3,4)    )\r\n",
        "- conjuntos\r\n",
        "- diccionarios ( {\"nombre\":\"Alan\"} )"
      ]
    },
    {
      "cell_type": "markdown",
      "metadata": {
        "id": "VoYKoH67EK9W"
      },
      "source": [
        "# Tipos de dato String\r\n",
        "\r\n",
        "Este tipo de dato permite almacenar cadenas de caracteres, como por ejemplo:\r\n",
        "```\r\n",
        "nombre = 'Alan'\r\n",
        "lugar_nacimiento = \"Mexico D.F. \"\r\n",
        "frase_favorita =\"\"\" \r\n",
        "ola\r\n",
        "\"\"\"\r\n",
        "```"
      ]
    },
    {
      "cell_type": "code",
      "metadata": {
        "colab": {
          "base_uri": "https://localhost:8080/"
        },
        "id": "xYknsDefFjX1",
        "outputId": "c6755625-0f29-44c9-c550-89b4f45250a6"
      },
      "source": [
        "nombre = 'Alan'\r\n",
        "lugar_nacimiento = \"Mexico D.F\"\r\n",
        "frase_favorita = \"\"\"\r\n",
        "ola\r\n",
        "\"\"\"\r\n",
        "\r\n",
        "print(nombre)\r\n",
        "print(lugar_nacimiento)\r\n",
        "print(frase_favorita)"
      ],
      "execution_count": 12,
      "outputs": [
        {
          "output_type": "stream",
          "text": [
            "Alan\n",
            "Mexico D.F\n",
            "\n",
            "ola\n",
            "\n"
          ],
          "name": "stdout"
        }
      ]
    },
    {
      "cell_type": "markdown",
      "metadata": {
        "id": "gcTzZ0jZFkVD"
      },
      "source": [
        "# Strings como arreglo\r\n",
        "\r\n",
        "Un string en python es almacenado como el tipo de dato (estructura de datos) arreglo.\r\n",
        "Por ejemplo la declaración:\r\n",
        "```\r\n",
        "nombre = 'Alan'\r\n",
        "```\r\n",
        "\r\n",
        "El elemento 'J' es almacenado en un arreglo en la posición 0. La en la 1 y así sucesivamente\r\n",
        "\r\n",
        " ### Selector\r\n",
        " la notacion para seleccionar un elemto del arreglo es:\r\n",
        "````\r\n",
        " [ 1 ]\r\n",
        "````\r\n",
        " Donde el valor interno debe ser un  valor numerico entero \r\n",
        " "
      ]
    },
    {
      "cell_type": "code",
      "metadata": {
        "colab": {
          "base_uri": "https://localhost:8080/"
        },
        "id": "hPTmL3TeUmDR",
        "outputId": "6ec85bf4-051b-4bc3-a4c8-190dd96897c7"
      },
      "source": [
        "nombre = 'Alan'\r\n",
        "print(nombre)\r\n",
        "print( nombre[0])\r\n",
        "print( nombre[3])\r\n"
      ],
      "execution_count": 13,
      "outputs": [
        {
          "output_type": "stream",
          "text": [
            "Alan\n",
            "A\n",
            "n\n"
          ],
          "name": "stdout"
        }
      ]
    },
    {
      "cell_type": "markdown",
      "metadata": {
        "id": "u5nccbLIHh9c"
      },
      "source": [
        "# Iterar sobre un String\r\n",
        "\r\n",
        "Se puede iterar sobre un String con un for de la forma:\r\n",
        "\r\n",
        "```\r\n",
        "for letra in range( len(nombre) ):\r\n",
        "  print(letra)\r\n",
        "```"
      ]
    },
    {
      "cell_type": "code",
      "metadata": {
        "colab": {
          "base_uri": "https://localhost:8080/"
        },
        "id": "Qpkro1kkIhMY",
        "outputId": "d70dcbec-dc24-48c5-d236-8fe27ddf9fe8"
      },
      "source": [
        "for indice in range( len(nombre) ): #0, 1, 2, 3, 4\r\n",
        "  print( indice, end = \" \" )\r\n",
        "  print(nombre [indice] )"
      ],
      "execution_count": 14,
      "outputs": [
        {
          "output_type": "stream",
          "text": [
            "0 A\n",
            "1 l\n",
            "2 a\n",
            "3 n\n"
          ],
          "name": "stdout"
        }
      ]
    },
    {
      "cell_type": "markdown",
      "metadata": {
        "id": "GT38rHQ2U5Dd"
      },
      "source": [
        "# Funcion range(inicio, stop\r\n",
        ",incremento)\r\n",
        "El inicio es opcional y por defecto tiene el valor 0\r\n",
        "\r\n",
        "El incremento tambien es opcional y por defecto es 1\r\n"
      ]
    },
    {
      "cell_type": "code",
      "metadata": {
        "colab": {
          "base_uri": "https://localhost:8080/"
        },
        "id": "jIT0jeg8U-Ja",
        "outputId": "e0f2933e-7931-40c0-f011-5ab403e91351"
      },
      "source": [
        "for indice in range(1, len(nombre) , 1) :\r\n",
        "  print(nombre[indice])"
      ],
      "execution_count": 15,
      "outputs": [
        {
          "output_type": "stream",
          "text": [
            "l\n",
            "a\n",
            "n\n"
          ],
          "name": "stdout"
        }
      ]
    },
    {
      "cell_type": "code",
      "metadata": {
        "colab": {
          "base_uri": "https://localhost:8080/"
        },
        "id": "PPOpipUsVgnC",
        "outputId": "71c87f19-537e-4d95-b4a0-b5793bcfea84"
      },
      "source": [
        "for indice in range(3, -1 , -1) :\r\n",
        "  print(nombre[indice])"
      ],
      "execution_count": 16,
      "outputs": [
        {
          "output_type": "stream",
          "text": [
            "n\n",
            "a\n",
            "l\n",
            "A\n"
          ],
          "name": "stdout"
        }
      ]
    },
    {
      "cell_type": "markdown",
      "metadata": {
        "id": "DbBtJmBOVj_v"
      },
      "source": [
        "# Strings e indexado negativo\r\n",
        "En python 3 se agrega una nueva\r\n",
        "caracteristicas a los arreglos de las cadenas de caracteres, esta consta\r\n",
        " de la capacidad de indexar de forma\r\n",
        " negativa.\r\n",
        " La logica es la siguiente.\r\n",
        "\r\n",
        " El ultimo elemento se le considera como indice (ALTERNATIVO) -1, con lo cual se podria referenciar el final de la cadena sin la necesidad de saber el tamaño de la misma.\r\n",
        " ````\r\n",
        " nombre = 'Luis'\r\n",
        "\r\n",
        "\r\n",
        " Indice normal:       0  1  2  3  4 5\r\n",
        "                      L  u  i  s\r\n",
        " Indice Alternativo: -5 -4 -3 -2 -1 0\r\n",
        "\r\n",
        "  ````"
      ]
    },
    {
      "cell_type": "code",
      "metadata": {
        "colab": {
          "base_uri": "https://localhost:8080/"
        },
        "id": "9dvibgFvVnsV",
        "outputId": "ca7b3c46-d43f-4bfa-bba5-010bd0aa00f4"
      },
      "source": [
        "nombre = \"Alan\"\r\n",
        "print( nombre[3] ) #Indexado Normal\r\n",
        "print( nombre[-1] ) #Indexado alternativo ( Negativo )\r\n",
        "print(\"\")\r\n",
        "for indice_alter in range(-1, -5 , -1):\r\n",
        "  print( nombre[indice_alter] )"
      ],
      "execution_count": 17,
      "outputs": [
        {
          "output_type": "stream",
          "text": [
            "n\n",
            "n\n",
            "\n",
            "n\n",
            "a\n",
            "l\n",
            "A\n"
          ],
          "name": "stdout"
        }
      ]
    },
    {
      "cell_type": "markdown",
      "metadata": {
        "id": "g1qOuU3PVyAX"
      },
      "source": [
        "#Slicing de cadenas de caracteres.\r\n",
        "\r\n",
        "Esta caracteristica permite sacar secciones de una cadena con la siguiente sintaxis:\r\n",
        "```\r\n",
        "[ inicio : stop : incremento ]\r\n",
        "```\r\n",
        "donde inicio e incremento son opcionales y tambien soportan indexado alternativo (Negativos)"
      ]
    },
    {
      "cell_type": "code",
      "metadata": {
        "colab": {
          "base_uri": "https://localhost:8080/"
        },
        "id": "E58irq20V9yf",
        "outputId": "5c2ce6fc-097b-4f1b-c36b-5e42b969d52b"
      },
      "source": [
        "facultad = \"Facultad de Estudios Superiores Aragon (La mejor)\"\r\n",
        "\r\n",
        "print(facultad)\r\n",
        "for indice in range(12, 20, 1):\r\n",
        "  print(facultad[indice] , end =\"\")\r\n",
        "\r\n",
        "  #Hacer esto mismo con la caracteristica Slicing se logra asi:\r\n",
        "print(\"\\nCon Slicing\")\r\n",
        "print(facultad[12:20:1])\r\n",
        "\r\n",
        "  #La palabra 'de' con slicing.\r\n",
        "\r\n",
        "print(facultad[9:11:1])\r\n",
        "\r\n",
        "#La frase 'La mejor' con indexing negativo y slicing:\r\n",
        "\r\n",
        "print(facultad[-9:-1])"
      ],
      "execution_count": 20,
      "outputs": [
        {
          "output_type": "stream",
          "text": [
            "Facultad de Estudios Superiores Aragon (La mejor)\n",
            "Estudios\n",
            "Con Slicing\n",
            "Estudios\n",
            "de\n",
            "La mejor\n"
          ],
          "name": "stdout"
        }
      ]
    }
  ]
}