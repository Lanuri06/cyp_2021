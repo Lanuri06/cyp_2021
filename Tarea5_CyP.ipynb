{
  "nbformat": 4,
  "nbformat_minor": 0,
  "metadata": {
    "colab": {
      "name": "Tarea5_CyP.ipynb",
      "provenance": [],
      "authorship_tag": "ABX9TyNhN0TKqEN3/Z9Sc5DKSfZ2",
      "include_colab_link": true
    },
    "kernelspec": {
      "name": "python3",
      "display_name": "Python 3"
    }
  },
  "cells": [
    {
      "cell_type": "markdown",
      "metadata": {
        "id": "view-in-github",
        "colab_type": "text"
      },
      "source": [
        "<a href=\"https://colab.research.google.com/github/Lanuri06/cyp_2021/blob/main/Tarea5_CyP.ipynb\" target=\"_parent\"><img src=\"https://colab.research.google.com/assets/colab-badge.svg\" alt=\"Open In Colab\"/></a>"
      ]
    },
    {
      "cell_type": "code",
      "metadata": {
        "colab": {
          "base_uri": "https://localhost:8080/"
        },
        "id": "oyBHPmXmMdfg",
        "outputId": "40d4c27b-40c3-4b9b-87c1-d03ac4eb7428"
      },
      "source": [
        "#Ejercicio 3.1\n",
        "import array\n",
        "array.array('f')\n",
        "sueldos = array.array('f',(0 for i in range(0, 10)))\n",
        "\n",
        "nomina = float(0)\n",
        "\n",
        "for i in range (0, 10):\n",
        "  sueldos[i] = int(input(f\"Ingresa el {i+1} sueldo: \"))\n",
        "  nomina += sueldos[i]\n",
        "\n",
        "print(\"La nomina de la empresa con base a los sueldos es: \", nomina)"
      ],
      "execution_count": 12,
      "outputs": [
        {
          "output_type": "stream",
          "text": [
            "Ingresa el 1 sueldo: 500\n",
            "Ingresa el 2 sueldo: 500\n",
            "Ingresa el 3 sueldo: 500\n",
            "Ingresa el 4 sueldo: 500\n",
            "Ingresa el 5 sueldo: 500\n",
            "Ingresa el 6 sueldo: 500\n",
            "Ingresa el 7 sueldo: 500\n",
            "Ingresa el 8 sueldo: 500\n",
            "Ingresa el 9 sueldo: 500\n",
            "Ingresa el 10 sueldo: 500\n",
            "La nomina de la empresa con base a los sueldos es:  5000.0\n"
          ],
          "name": "stdout"
        }
      ]
    },
    {
      "cell_type": "code",
      "metadata": {
        "colab": {
          "base_uri": "https://localhost:8080/"
        },
        "id": "d6sBDtUqNoz4",
        "outputId": "7e704f30-f9cc-43cc-891b-9fb412bb487a"
      },
      "source": [
        "#Ejercicio 3.4\n",
        "\n",
        "import array\n",
        "array.array('f')\n",
        "gastos = array.array('f',(0 for i in range(0, 999)))\n",
        "a = int(0)\n",
        "yes_no = ''\n",
        "total_gastos = float(0)\n",
        "\n",
        "while True:\n",
        "  gastos[a] = float(input(f\"¿De cuanto fue el {a+1} gasto?: \"))\n",
        "  total_gastos += gastos[a]\n",
        "  while True:\n",
        "    yes_no = ''\n",
        "    yes_no = str(input(\"¿Hubo algún otro gasto? S/N: \"))\n",
        "    if yes_no == 's' or yes_no == 'S' or yes_no == 'n' or yes_no == 'N':\n",
        "      break;\n",
        "    else:\n",
        "      print(\"Debes ingresar S o N para continuar.\\n\")\n",
        "  if yes_no == 'n' or yes_no == 'N':\n",
        "    break;\n",
        "  elif yes_no == 's' or yes_no == 'S':\n",
        "    a += 1\n",
        "\n",
        "print(\"\\nEl total de gastos durante el viaje es de: \",total_gastos)\n",
        "print(\"\\nLos gastos individuales son:\\n\")\n",
        "\n",
        "for i in range (0, a+1):\n",
        "  print(f\"{i+1} gasto es de: {gastos[i]}\")"
      ],
      "execution_count": 13,
      "outputs": [
        {
          "output_type": "stream",
          "text": [
            "¿De cuanto fue el 1 gasto?: 235\n",
            "¿Hubo algún otro gasto? S/N: s\n",
            "¿De cuanto fue el 2 gasto?: 655\n",
            "¿Hubo algún otro gasto? S/N: s\n",
            "¿De cuanto fue el 3 gasto?: 780\n",
            "¿Hubo algún otro gasto? S/N: s\n",
            "¿De cuanto fue el 4 gasto?: 800\n",
            "¿Hubo algún otro gasto? S/N: s\n",
            "¿De cuanto fue el 5 gasto?: 500\n",
            "¿Hubo algún otro gasto? S/N: s\n",
            "¿De cuanto fue el 6 gasto?: 450\n",
            "¿Hubo algún otro gasto? S/N: n\n",
            "\n",
            "El total de gastos durante el viaje es de:  3420.0\n",
            "\n",
            "Los gastos individuales son:\n",
            "\n",
            "1 gasto es de: 235.0\n",
            "2 gasto es de: 655.0\n",
            "3 gasto es de: 780.0\n",
            "4 gasto es de: 800.0\n",
            "5 gasto es de: 500.0\n",
            "6 gasto es de: 450.0\n"
          ],
          "name": "stdout"
        }
      ]
    }
  ]
}