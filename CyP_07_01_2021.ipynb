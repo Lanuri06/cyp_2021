{
  "nbformat": 4,
  "nbformat_minor": 0,
  "metadata": {
    "colab": {
      "name": "CyP_07/01/2021.ipynb",
      "provenance": [],
      "authorship_tag": "ABX9TyPu6TpdbKwh+LrWgSydEDi4",
      "include_colab_link": true
    },
    "kernelspec": {
      "name": "python3",
      "display_name": "Python 3"
    }
  },
  "cells": [
    {
      "cell_type": "markdown",
      "metadata": {
        "id": "view-in-github",
        "colab_type": "text"
      },
      "source": [
        "<a href=\"https://colab.research.google.com/github/Lanuri06/cyp_2021/blob/main/CyP_07_01_2021.ipynb\" target=\"_parent\"><img src=\"https://colab.research.google.com/assets/colab-badge.svg\" alt=\"Open In Colab\"/></a>"
      ]
    },
    {
      "cell_type": "code",
      "metadata": {
        "colab": {
          "base_uri": "https://localhost:8080/"
        },
        "id": "YPOXjqJ942Mg",
        "outputId": "d2f95a8b-c601-49d7-db3f-ad098f7ed73c"
      },
      "source": [
        "# Problema 4.1\r\n",
        "N = int(input(\"Ingrese el nuemro de elementos del arreglo:\"))\r\n",
        "\r\n",
        "if 1 <= N and N <=500:\r\n",
        "    VEC = [0 for x in range(N)] \r\n",
        "    print(VEC)\r\n",
        "    for I in range(N):\r\n",
        "        VEC[I]=int(input(\"Ingrese valor \" + str(I +1) + \":\"))\r\n",
        "    print(\"Lista de nuemeros sin repeticiones:\")\r\n",
        "    I=0\r\n",
        "    while I < N :\r\n",
        "        print(VEC[I])\r\n",
        "        REPET = VEC[I]\r\n",
        "        while I < N and I != N-1 and REPET == VEC[I+1]  :\r\n",
        "            #print(\"incementa I\", I)\r\n",
        "            I = I + 1   \r\n",
        "        I=I+1    \r\n",
        "else:\r\n",
        "  print(\"El número de elementos del arreglo es incorrecto\")"
      ],
      "execution_count": 1,
      "outputs": [
        {
          "output_type": "stream",
          "text": [
            "Ingrese el nuemro de elementos del arreglo:10\n",
            "[0, 0, 0, 0, 0, 0, 0, 0, 0, 0]\n",
            "Ingrese valor 1:1\n",
            "Ingrese valor 2:2\n",
            "Ingrese valor 3:2\n",
            "Ingrese valor 4:2\n",
            "Ingrese valor 5:3\n",
            "Ingrese valor 6:3\n",
            "Ingrese valor 7:3\n",
            "Ingrese valor 8:4\n",
            "Ingrese valor 9:5\n",
            "Ingrese valor 10:6\n",
            "Lista de nuemeros sin repeticiones:\n",
            "1\n",
            "2\n",
            "3\n",
            "4\n",
            "5\n",
            "6\n"
          ],
          "name": "stdout"
        }
      ]
    },
    {
      "cell_type": "code",
      "metadata": {
        "colab": {
          "base_uri": "https://localhost:8080/"
        },
        "id": "Qd5qHJFJQICJ",
        "outputId": "6cbbbfaa-bf8c-47ed-fcff-7c09c5fb4dd0"
      },
      "source": [
        "REN = 3\r\n",
        "COL = 5\r\n",
        "VEC = [[0 for x in range(COL)] for x in range(REN)]\r\n",
        "print(VEC)\r\n",
        "VEC [1][2] = 15\r\n",
        "print(VEC)\r\n",
        "\r\n",
        "print(\"Automatizar el recorrido de arreglo\")\r\n",
        "for i in range(REN):\r\n",
        "  for j in range(COL):\r\n",
        "    print(f\"{i},{j} = {VEC[i][j]}\")"
      ],
      "execution_count": 2,
      "outputs": [
        {
          "output_type": "stream",
          "text": [
            "[[0, 0, 0, 0, 0], [0, 0, 0, 0, 0], [0, 0, 0, 0, 0]]\n",
            "[[0, 0, 0, 0, 0], [0, 0, 15, 0, 0], [0, 0, 0, 0, 0]]\n",
            "Automatizar el recorrido de arreglo\n",
            "0,0 = 0\n",
            "0,1 = 0\n",
            "0,2 = 0\n",
            "0,3 = 0\n",
            "0,4 = 0\n",
            "1,0 = 0\n",
            "1,1 = 0\n",
            "1,2 = 15\n",
            "1,3 = 0\n",
            "1,4 = 0\n",
            "2,0 = 0\n",
            "2,1 = 0\n",
            "2,2 = 0\n",
            "2,3 = 0\n",
            "2,4 = 0\n"
          ],
          "name": "stdout"
        }
      ]
    },
    {
      "cell_type": "code",
      "metadata": {
        "colab": {
          "base_uri": "https://localhost:8080/"
        },
        "id": "-Rbx3TXuQLOf",
        "outputId": "96675a19-82bc-41f9-cad2-3060dfa9a2b7"
      },
      "source": [
        "estados= int (input(\"¿Cuantos estados son?: \"))\r\n",
        "lluvias_men_est= [ [0 for x in range(12)] for x in range(estados)]\r\n",
        "print(lluvias_men_est)\r\n",
        "for i in range(estados):\r\n",
        "  for j in range(12):\r\n",
        "    mensaje = \"Dame el valor del estado\"  + str(i+1) + \"del mes\" + str(j+1),\":\" \r\n",
        "    aux = int(input(mensaje))\r\n",
        "    lluvias_men_est[i][j] = aux\r\n",
        "\r\n",
        "print(lluvias_men_est)\r\n",
        "\r\n",
        "print(\"Promedio de lluvias en los estados: \")\r\n",
        "suma = 0\r\n",
        "for i in range(estados):\r\n",
        "  suma = 0 \r\n",
        "  for j in range(12):\r\n",
        "    suma = suma + lluvias_men_est[i][j] \r\n",
        "  print(f\"El promedio de lluvias en el estado {i+1} es {suma/12}\")"
      ],
      "execution_count": 3,
      "outputs": [
        {
          "output_type": "stream",
          "text": [
            "¿Cuantos estados son?: 2\n",
            "[[0, 0, 0, 0, 0, 0, 0, 0, 0, 0, 0, 0], [0, 0, 0, 0, 0, 0, 0, 0, 0, 0, 0, 0]]\n",
            "Dame el valor del estado1del mes1,:50\n",
            "Dame el valor del estado1del mes2,:12\n",
            "Dame el valor del estado1del mes3,:15\n",
            "Dame el valor del estado1del mes4,:22\n",
            "Dame el valor del estado1del mes5,:50\n",
            "Dame el valor del estado1del mes6,:85\n",
            "Dame el valor del estado1del mes7,:70\n",
            "Dame el valor del estado1del mes8,:65\n",
            "Dame el valor del estado1del mes9,:28\n",
            "Dame el valor del estado1del mes10,:35\n",
            "Dame el valor del estado1del mes11,:17\n",
            "Dame el valor del estado1del mes12,:45\n",
            "Dame el valor del estado2del mes1,:3\n",
            "Dame el valor del estado2del mes2,:10\n",
            "Dame el valor del estado2del mes3,:5\n",
            "Dame el valor del estado2del mes4,:30\n",
            "Dame el valor del estado2del mes5,:90\n",
            "Dame el valor del estado2del mes6,:130\n",
            "Dame el valor del estado2del mes7,:75\n",
            "Dame el valor del estado2del mes8,:49\n",
            "Dame el valor del estado2del mes9,:37\n",
            "Dame el valor del estado2del mes10,:15\n",
            "Dame el valor del estado2del mes11,:8\n",
            "Dame el valor del estado2del mes12,:90\n",
            "[[50, 12, 15, 22, 50, 85, 70, 65, 28, 35, 17, 45], [3, 10, 5, 30, 90, 130, 75, 49, 37, 15, 8, 90]]\n",
            "Promedio de lluvias en los estados: \n",
            "El promedio de lluvias en el estado 1 es 41.166666666666664\n",
            "El promedio de lluvias en el estado 2 es 45.166666666666664\n"
          ],
          "name": "stdout"
        }
      ]
    }
  ]
}