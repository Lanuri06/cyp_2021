{
  "nbformat": 4,
  "nbformat_minor": 0,
  "metadata": {
    "colab": {
      "name": "05/01/2021CyP.ipynb",
      "provenance": [],
      "authorship_tag": "ABX9TyOJmmSk9wYo21uvN5iZ36kN",
      "include_colab_link": true
    },
    "kernelspec": {
      "name": "python3",
      "display_name": "Python 3"
    }
  },
  "cells": [
    {
      "cell_type": "markdown",
      "metadata": {
        "id": "view-in-github",
        "colab_type": "text"
      },
      "source": [
        "<a href=\"https://colab.research.google.com/github/Lanuri06/cyp_2021/blob/main/05_01_2021CyP.ipynb\" target=\"_parent\"><img src=\"https://colab.research.google.com/assets/colab-badge.svg\" alt=\"Open In Colab\"/></a>"
      ]
    },
    {
      "cell_type": "code",
      "metadata": {
        "colab": {
          "base_uri": "https://localhost:8080/"
        },
        "id": "hMHrXljTnOU8",
        "outputId": "3a3beb10-7819-4465-dc6e-c89b48373bac"
      },
      "source": [
        "sueldo= [0.0 for x in range (7)]\r\n",
        "print (sueldo)\r\n",
        "sueldo [0]=12.3\r\n",
        "sueldo [1]=13.3\r\n",
        "sueldo [2]=14.3\r\n",
        "sueldo [3]=15.3\r\n",
        "sueldo [4]=16.3\r\n",
        "sueldo [5]=17.3\r\n",
        "sueldo [6]=18.3\r\n",
        "print (sueldo)\r\n",
        "\r\n",
        "sueldos = [0.0 for x in range(7)]\r\n",
        "print(sueldos)\r\n",
        "i= 0\r\n",
        "nue_valor= 1.0\r\n",
        "for i in range(7):\r\n",
        "  sueldos[i]= nue_valor\r\n",
        "  nue_valor= nue_valor + 1\r\n",
        "  i= i + 1\r\n",
        "print(sueldos)\r\n",
        "\r\n",
        "for i in range(7):\r\n",
        "  print(f\"el trabajador {int (i)+1} gana ${sueldo[i]} \")"
      ],
      "execution_count": 7,
      "outputs": [
        {
          "output_type": "stream",
          "text": [
            "[0.0, 0.0, 0.0, 0.0, 0.0, 0.0, 0.0]\n",
            "[12.3, 13.3, 14.3, 15.3, 16.3, 17.3, 18.3]\n",
            "[0.0, 0.0, 0.0, 0.0, 0.0, 0.0, 0.0]\n",
            "[1.0, 2.0, 3.0, 4.0, 5.0, 6.0, 7.0]\n",
            "el trabajador 1 gana $12.3 \n",
            "el trabajador 2 gana $13.3 \n",
            "el trabajador 3 gana $14.3 \n",
            "el trabajador 4 gana $15.3 \n",
            "el trabajador 5 gana $16.3 \n",
            "el trabajador 6 gana $17.3 \n",
            "el trabajador 7 gana $18.3 \n"
          ],
          "name": "stdout"
        }
      ]
    },
    {
      "cell_type": "code",
      "metadata": {
        "colab": {
          "base_uri": "https://localhost:8080/"
        },
        "id": "bFz_phfLvE8Y",
        "outputId": "973ffe74-743f-416c-8289-56f3115e3c75"
      },
      "source": [
        "#Problema 4.1\r\n",
        "MAXIMO= 7\r\n",
        "sueldos = [0.0 for x in range(MAXIMO)]\r\n",
        "suma = 0.0\r\n",
        "promedio = 0.0\r\n",
        "\r\n",
        "\r\n",
        "for i in range(MAXIMO):\r\n",
        "  sueldos[i]= float(input(\"Dame el sueldo: \"))\r\n",
        "\r\n",
        "for i in range(MAXIMO):\r\n",
        "  print(f\"Trabajador {i+1} gana: {sueldos[i]}2\")\r\n",
        "\r\n",
        "for i in range(MAXIMO):\r\n",
        "  suma = suma + sueldos [i]\r\n",
        "\r\n",
        "promedio = suma/MAXIMO\r\n",
        "\r\n",
        "print(f\"El promedio del sueldos es $ {promedio}5\")\r\n",
        "\r\n",
        "for i in range(MAXIMO):\r\n",
        "  if sueldos[i] > promedio:\r\n",
        "    print(f\"el trabajador {i+1} tiene un sueldo mayor al promedio\")"
      ],
      "execution_count": 12,
      "outputs": [
        {
          "output_type": "stream",
          "text": [
            "Dame el sueldo: 3000\n",
            "Dame el sueldo: 2500\n",
            "Dame el sueldo: 600\n",
            "Dame el sueldo: 3000\n",
            "Dame el sueldo: 2500\n",
            "Dame el sueldo: 4100\n",
            "Dame el sueldo: 2500\n",
            "Trabajador 1 gana: 3000.02\n",
            "Trabajador 2 gana: 2500.02\n",
            "Trabajador 3 gana: 600.02\n",
            "Trabajador 4 gana: 3000.02\n",
            "Trabajador 5 gana: 2500.02\n",
            "Trabajador 6 gana: 4100.02\n",
            "Trabajador 7 gana: 2500.02\n",
            "El promedio del sueldos es $ 2600.05\n",
            "el trabajador 1 tiene un sueldo mayor al promedio\n",
            "el trabajador 4 tiene un sueldo mayor al promedio\n",
            "el trabajador 6 tiene un sueldo mayor al promedio\n"
          ],
          "name": "stdout"
        }
      ]
    },
    {
      "cell_type": "code",
      "metadata": {
        "colab": {
          "base_uri": "https://localhost:8080/"
        },
        "id": "oXTXelmI7EiI",
        "outputId": "7f794d7f-e6ba-4570-8eca-4fc3c3febaf1"
      },
      "source": [
        "Max = 5\r\n",
        "valor =  [0.0 for x in range(Max)]\r\n",
        "sum = 0.0\r\n",
        "prom = 0.0\r\n",
        "M = 0\r\n",
        "m = 100000000\r\n",
        "\r\n",
        "for i in range(Max):\r\n",
        "  valor[i] = int(input(\"Dame un valor entero positivo: \"))\r\n",
        "  if valor[i] > M:\r\n",
        "    M = valor[i]\r\n",
        "  elif valor[i] < m:\r\n",
        "    m = valor[i]\r\n",
        "\r\n",
        "for i in range(Max):\r\n",
        "  sum = sum + valor[i]\r\n",
        "\r\n",
        "prom = sum / Max\r\n",
        "\r\n",
        "print(f\"El numero mayor es {M}\")\r\n",
        "print(f\"El numero menor es {m}\")"
      ],
      "execution_count": 13,
      "outputs": [
        {
          "output_type": "stream",
          "text": [
            "Dame un valor entero positivo: 5\n",
            "Dame un valor entero positivo: 1\n",
            "Dame un valor entero positivo: 3\n",
            "Dame un valor entero positivo: 6\n",
            "Dame un valor entero positivo: 4\n",
            "El numero mayor es 6\n",
            "El numero menor es 1\n"
          ],
          "name": "stdout"
        }
      ]
    },
    {
      "cell_type": "code",
      "metadata": {
        "colab": {
          "base_uri": "https://localhost:8080/"
        },
        "id": "wNFX1VY17PsP",
        "outputId": "36177eb8-61a0-44ce-eaf7-48e03f33aeeb"
      },
      "source": [
        "N = int(input(\"Ingrese el numero de elementos del arreglo: \"))\r\n",
        "VEC = []\r\n",
        "if 1 <= N and N <=500:\r\n",
        "  VEC = [0 for x in range(N)]\r\n",
        "  for I in range(N):\r\n",
        "    VEC[I]=int(input(\"Ingrese valor\" + str(I+1) + \":\"))\r\n",
        "  print(\"Lista de numero sin repeticiones: \")\r\n",
        "\r\n",
        "  I =0\r\n",
        "  while I<N:\r\n",
        "    print(VEC[I])\r\n",
        "    REPET = VEC[I]\r\n",
        "    while I < N and REPET == VEC[I]:\r\n",
        "      I = I +1\r\n",
        "    I = I + 1\r\n",
        "else: \r\n",
        "  print(\"EL numero de elementos del arreglo es incorrecto\")"
      ],
      "execution_count": 15,
      "outputs": [
        {
          "output_type": "stream",
          "text": [
            "Ingrese el numero de elementos del arreglo: 3\n",
            "Ingrese valor1:2\n",
            "Ingrese valor2:5\n",
            "Ingrese valor3:4\n",
            "Lista de numero sin repeticiones: \n",
            "2\n",
            "4\n"
          ],
          "name": "stdout"
        }
      ]
    }
  ]
}