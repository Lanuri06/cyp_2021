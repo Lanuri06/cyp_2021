{
  "nbformat": 4,
  "nbformat_minor": 0,
  "metadata": {
    "colab": {
      "name": "CyP 12/11/2020",
      "provenance": [],
      "authorship_tag": "ABX9TyNacM9pW7xjyIYOAD2809S4",
      "include_colab_link": true
    },
    "kernelspec": {
      "name": "python3",
      "display_name": "Python 3"
    }
  },
  "cells": [
    {
      "cell_type": "markdown",
      "metadata": {
        "id": "view-in-github",
        "colab_type": "text"
      },
      "source": [
        "<a href=\"https://colab.research.google.com/github/Lanuri06/cyp_2021/blob/main/CyP_12_11_2020.ipynb\" target=\"_parent\"><img src=\"https://colab.research.google.com/assets/colab-badge.svg\" alt=\"Open In Colab\"/></a>"
      ]
    },
    {
      "cell_type": "code",
      "metadata": {
        "id": "XGk3sMorcCtC",
        "outputId": "72bc5394-52f6-40f8-fbd7-48c591367e23",
        "colab": {
          "base_uri": "https://localhost:8080/"
        }
      },
      "source": [
        "numero=int (input(\"Dame un numero\"))\n",
        "if numero >0:\n",
        "  print(\"El número es positivo\")\n",
        "\n",
        "print(\" Fin del programa \" ) \n",
        "\n"
      ],
      "execution_count": 3,
      "outputs": [
        {
          "output_type": "stream",
          "text": [
            "Dame un numero4\n",
            "El número es positivo\n",
            " Fin del programa \n"
          ],
          "name": "stdout"
        }
      ]
    },
    {
      "cell_type": "code",
      "metadata": {
        "id": "IBOZlPErfFlL",
        "outputId": "47808d33-28c3-48c6-e385-d8a526ec6e74",
        "colab": {
          "base_uri": "https://localhost:8080/"
        }
      },
      "source": [
        "#Ejemplo 2\n",
        "numero= int(input(\" Digite un numero \"))\n",
        "if numero >0:\n",
        "  print(\" El numero es positivo\")\n",
        "else:\n",
        "  print(\" El numero es negativo \")\n"
      ],
      "execution_count": 7,
      "outputs": [
        {
          "output_type": "stream",
          "text": [
            " Digite un numero 54\n",
            " El numero es positivo\n"
          ],
          "name": "stdout"
        }
      ]
    },
    {
      "cell_type": "code",
      "metadata": {
        "id": "Taqx8o7BhCsS",
        "outputId": "2e58dc55-29c9-4628-aa0f-ef36adef8185",
        "colab": {
          "base_uri": "https://localhost:8080/"
        }
      },
      "source": [
        "#Ejemplo 3\n",
        "numero= int(input(\" Digite un numero \"))\n",
        "if numero >0:\n",
        "  print(\"El numero es positivo\")\n",
        "elif numero==0:\n",
        "  print(\" El numero es cero\")\n",
        "\n",
        "else:\n",
        "  print(\" El numero es negativo\")\n",
        "\n",
        "print(\"Din del programa\")      "
      ],
      "execution_count": 10,
      "outputs": [
        {
          "output_type": "stream",
          "text": [
            " Digite un numero -5\n",
            " El nhumero es negativo\n",
            "Din del programa\n"
          ],
          "name": "stdout"
        }
      ]
    }
  ]
}