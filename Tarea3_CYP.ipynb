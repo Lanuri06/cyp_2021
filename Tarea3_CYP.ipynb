{
  "nbformat": 4,
  "nbformat_minor": 0,
  "metadata": {
    "colab": {
      "name": "Tarea3_CYP.ipynb",
      "provenance": [],
      "authorship_tag": "ABX9TyOw3vyObInTI9zzr0Hr8IDw",
      "include_colab_link": true
    },
    "kernelspec": {
      "name": "python3",
      "display_name": "Python 3"
    }
  },
  "cells": [
    {
      "cell_type": "markdown",
      "metadata": {
        "id": "view-in-github",
        "colab_type": "text"
      },
      "source": [
        "<a href=\"https://colab.research.google.com/github/Lanuri06/cyp_2021/blob/main/Tarea3_CYP.ipynb\" target=\"_parent\"><img src=\"https://colab.research.google.com/assets/colab-badge.svg\" alt=\"Open In Colab\"/></a>"
      ]
    },
    {
      "cell_type": "code",
      "metadata": {
        "colab": {
          "base_uri": "https://localhost:8080/"
        },
        "id": "EexXGCbxd3kR",
        "outputId": "9aa73a25-5bca-498a-f7d7-7c4a8c855edf"
      },
      "source": [
        "#Problema1.1\n",
        "\n",
        "PREPO=0\n",
        "PAGO=0\n",
        "DEVO=0\n",
        "\n",
        "PREPO = float (input(\"dame el primer dato: \"))\n",
        "PAGO = float (input(\"dame el segundo dato: \" ))\n",
        "\n",
        "DEVO = PAGO-PREPO\n",
        "print (DEVO)"
      ],
      "execution_count": 1,
      "outputs": [
        {
          "output_type": "stream",
          "text": [
            "dame el primer dato: 86.25\n",
            "dame el segundo dato: 100\n",
            "13.75\n"
          ],
          "name": "stdout"
        }
      ]
    },
    {
      "cell_type": "code",
      "metadata": {
        "colab": {
          "base_uri": "https://localhost:8080/"
        },
        "id": "HnHxBJ7jeAqG",
        "outputId": "0c9c1791-5a4e-4dd9-82df-1a737e7280eb"
      },
      "source": [
        "#Problema1.2\n",
        "\n",
        "BASE=0\n",
        "ALTURA=0\n",
        "SUP=0\n",
        "\n",
        "BASE = float(input(\"la base es:\"))\n",
        "ALTURA = float(input(\"la altura: \"))\n",
        "\n",
        "SUP= (BASE*ALTURA)/2\n",
        "\n",
        "print (SUP)"
      ],
      "execution_count": 2,
      "outputs": [
        {
          "output_type": "stream",
          "text": [
            "la base es:8.50\n",
            "la altura: 7.20\n",
            "30.6\n"
          ],
          "name": "stdout"
        }
      ]
    },
    {
      "cell_type": "code",
      "metadata": {
        "colab": {
          "base_uri": "https://localhost:8080/"
        },
        "id": "lazSYRqoeHLq",
        "outputId": "d1fb3b27-2b19-4bd0-845f-544811df8dea"
      },
      "source": [
        "#Problema1.3\n",
        "NOM=0\n",
        "PES=0\n",
        "LON=0\n",
        "PERSKIL=0\n",
        "LONMET=0\n",
        "\n",
        "NOM= (input(\"Como se llama el dinosaurio? \"))\n",
        "PES= float(input(\"Cuanto pesa el dinosaurio en toneladas? \"))\n",
        "LON= float(input(\"Cuanto mide el dinosaurio en pies? \"))\n",
        "PERSKIL= (PES*1000)\n",
        "LONMET= (LON*0.3047)\n",
        "\n",
        "print(f\"Se llama {NOM}, pesa {PERSKIL} en kilogramos y si alutura es de {LONMET} metros\" )"
      ],
      "execution_count": 4,
      "outputs": [
        {
          "output_type": "stream",
          "text": [
            "Como se llama el dinosaurio? DIPLOJOCUS\n",
            "Cuanto pesa el dinosaurio en toneladas? 15\n",
            "Cuanto mide el dinosaurio en pies? 90\n",
            "Se llama DIPLOJOCUS, pesa 15000.0 en kilogramos y si alutura es de 27.423000000000002 metros\n"
          ],
          "name": "stdout"
        }
      ]
    },
    {
      "cell_type": "code",
      "metadata": {
        "colab": {
          "base_uri": "https://localhost:8080/"
        },
        "id": "e3Y7LAS6eyar",
        "outputId": "ccb6038b-2ac6-4637-b03c-909bc28768b3"
      },
      "source": [
        "#Problema1.4\n",
        "\n",
        "GAL=0\n",
        "TOTAL=0\n",
        "\n",
        "GAL= float(input(\"Cuantos galones? \"))\n",
        "TOTAL = GAL*3.785*8.20\n",
        "\n",
        "print (TOTAL)"
      ],
      "execution_count": 5,
      "outputs": [
        {
          "output_type": "stream",
          "text": [
            "Cuantos galones? 8.40\n",
            "260.7108\n"
          ],
          "name": "stdout"
        }
      ]
    },
    {
      "cell_type": "code",
      "metadata": {
        "colab": {
          "base_uri": "https://localhost:8080/"
        },
        "id": "kfOtqvfze5qG",
        "outputId": "4ca48161-0098-4b62-dfe2-bce96c14cb02"
      },
      "source": [
        "#Problema1.5\n",
        "\n",
        "RADIO=0\n",
        "ALTU=0\n",
        "VOL=0\n",
        "ARE=0\n",
        "\n",
        "RADIO= float(input(\"Dame el radio: \"))\n",
        "ALTU= float(input(\"Dame la altura: \"))\n",
        "VOL= 3.141592*(RADIO**2)*ALTU\n",
        "ARE= 2*3.141592*RADIO*ALTU\n",
        "\n",
        "print(f\"El volumen es: {VOL}\")\n",
        "print(f\"El Area es: {ARE}\")"
      ],
      "execution_count": 6,
      "outputs": [
        {
          "output_type": "stream",
          "text": [
            "Dame el radio: 45.22\n",
            "Dame la altura: 11.50\n",
            "El volumen es: 73876.9128085072\n",
            "El Area es: 3267.44417552\n"
          ],
          "name": "stdout"
        }
      ]
    },
    {
      "cell_type": "code",
      "metadata": {
        "colab": {
          "base_uri": "https://localhost:8080/"
        },
        "id": "NaGjXO-9fEw9",
        "outputId": "c760ddb6-16fb-49d4-b6a2-d7dd74a06b37"
      },
      "source": [
        "#Problema1.6\n",
        "DIAS=0\n",
        "SEGUNDOS=0\n",
        "\n",
        "DIAS= int(input(\"Cuantos dias? \"))\n",
        "SEGUNDOS= DIAS*24*60*60\n",
        "\n",
        "print(f\"En {DIAS} dias hay {SEGUNDOS} segundos\")"
      ],
      "execution_count": 7,
      "outputs": [
        {
          "output_type": "stream",
          "text": [
            "Cuantos dias? 7\n",
            "En 7 dias hay 604800 segundos\n"
          ],
          "name": "stdout"
        }
      ]
    }
  ]
}