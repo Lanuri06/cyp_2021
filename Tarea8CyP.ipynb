{
  "nbformat": 4,
  "nbformat_minor": 0,
  "metadata": {
    "colab": {
      "name": "Tarea8CyP.ipynb",
      "provenance": [],
      "authorship_tag": "ABX9TyPK6D0KZe1y0+vUIWW5Rmvj",
      "include_colab_link": true
    },
    "kernelspec": {
      "name": "python3",
      "display_name": "Python 3"
    }
  },
  "cells": [
    {
      "cell_type": "markdown",
      "metadata": {
        "id": "view-in-github",
        "colab_type": "text"
      },
      "source": [
        "<a href=\"https://colab.research.google.com/github/Lanuri06/cyp_2021/blob/main/Tarea8CyP.ipynb\" target=\"_parent\"><img src=\"https://colab.research.google.com/assets/colab-badge.svg\" alt=\"Open In Colab\"/></a>"
      ]
    },
    {
      "cell_type": "code",
      "metadata": {
        "colab": {
          "base_uri": "https://localhost:8080/"
        },
        "id": "sZ25SXSlAPRH",
        "outputId": "8ea692a3-e25a-4f27-ba4b-829d2f1377bf"
      },
      "source": [
        "print(\" \\u264b \\u264b \\u264b \\u264b \\u264b \\u264b \\u264b \\u264b \\u264b \\u264b \\u264b \\u264b \\u264b \\u264b \\u264b \\u264b \\u264b                                                                                    \") \r\n",
        "print(\"                                                         \\u264b                                                                                                                                            \")\r\n",
        "print(\" \\u264b                                                                                                                                                                                                    \")\r\n",
        "print(\"                                                         \\u264b                                                                                                                                            \")\r\n",
        "print(\" \\u264b           \\u2663       \\u2663               \\u2663       \\u2663      \\u2663                                                                                                                        \")\r\n",
        "print(\"             \\u2663  \\u2663     \\u2663             \\u2663  \\u2663      \\u2663 \\u2663    \\u2663   \\u264b                                                                                                    \")\r\n",
        "print(\" \\u264b        \\u2663     \\u2663    \\u2663           \\u2663    \\u2663     \\u2663   \\u2663   \\u2663                                                                                                         \")\r\n",
        "print(\" \\u264b       \\u2663\\u2663\\u2663\\u2663\\u2663\\u2663\\u2663\\u2663\\u2663   \\u2663          \\u2663\\u2663\\u2663\\u2663\\u2663\\u2663\\u2663\\u2663    \\u2663     \\u2663 \\u2663   \\u264b                               \")\r\n",
        "print(\" \\u264b      \\u2663         \\u2663  \\u2663\\u2663\\u2663\\u2663\\u2663\\u2663\\u2663\\u2663  \\u2663        \\u2663   \\u2663       \\u2663                                                                           \")\r\n",
        "print(\"                                                         \\u264b                                                                                                                                            \")\r\n",
        "print(\" \\u264b                                                                                                                                                                                                    \")\r\n",
        "print(\"                                                         \\u264b                                                                                                                                            \")\r\n",
        "print(\" \\u264b                                                                                                                                                                                                    \")\r\n",
        "print(\" \\u264b \\u264b \\u264b \\u264b \\u264b \\u264b \\u264b \\u264b \\u264b \\u264b \\u264b \\u264b \\u264b \\u264b \\u264b \\u264b \\u264b                                                                                    \")\r\n"
      ],
      "execution_count": 175,
      "outputs": [
        {
          "output_type": "stream",
          "text": [
            " ♋ ♋ ♋ ♋ ♋ ♋ ♋ ♋ ♋ ♋ ♋ ♋ ♋ ♋ ♋ ♋ ♋                                                                                    \n",
            "                                                         ♋                                                                                                                                            \n",
            " ♋                                                                                                                                                                                                    \n",
            "                                                         ♋                                                                                                                                            \n",
            " ♋           ♣       ♣               ♣       ♣      ♣                                                                                                                        \n",
            "             ♣  ♣     ♣             ♣  ♣      ♣ ♣    ♣   ♋                                                                                                    \n",
            " ♋        ♣     ♣    ♣           ♣    ♣     ♣   ♣   ♣                                                                                                         \n",
            " ♋       ♣♣♣♣♣♣♣♣♣   ♣          ♣♣♣♣♣♣♣♣    ♣     ♣ ♣   ♋                               \n",
            " ♋      ♣         ♣  ♣♣♣♣♣♣♣♣  ♣        ♣   ♣       ♣                                                                           \n",
            "                                                         ♋                                                                                                                                            \n",
            " ♋                                                                                                                                                                                                    \n",
            "                                                         ♋                                                                                                                                            \n",
            " ♋                                                                                                                                                                                                    \n",
            " ♋ ♋ ♋ ♋ ♋ ♋ ♋ ♋ ♋ ♋ ♋ ♋ ♋ ♋ ♋ ♋ ♋                                                                                    \n"
          ],
          "name": "stdout"
        }
      ]
    }
  ]
}